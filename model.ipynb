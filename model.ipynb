{
  "cells": [
    {
      "cell_type": "code",
      "execution_count": 1,
      "metadata": {
        "id": "9ur5RpMB5IcJ"
      },
      "outputs": [],
      "source": [
        "#import librares\n",
        "from tensorflow.keras.preprocessing.image import ImageDataGenerator\n",
        "from tensorflow.keras.layers import GlobalAveragePooling2D\n",
        "from tensorflow.keras.layers import BatchNormalization\n",
        "from tensorflow.keras.applications import MobileNetV2\n",
        "from tensorflow.keras.optimizers import Adam\n",
        "from tensorflow.keras.layers import Dropout\n",
        "from tensorflow.keras.layers import Dense\n",
        "from tensorflow.keras import Sequential\n",
        "import matplotlib.pyplot as plt\n",
        "import tensorflow as tf\n",
        "import splitfolders  \n",
        "import numpy as np\n",
        "import pandas as pd\n",
        "import cv2\n",
        "import os\n",
        "import numpy \n",
        "from PIL import Image\n",
        "from sklearn import preprocessing\n",
        "import random"
      ]
    },
    {
      "cell_type": "code",
      "execution_count": 2,
      "metadata": {
        "id": "ApPeslHd5RSr"
      },
      "outputs": [],
      "source": [
        "#dir for dataset\n",
        "train_dir = \"./Dataset/train\"\n",
        "test_dir = \"./Dataset/test\""
      ]
    },
    {
      "cell_type": "code",
      "execution_count": 3,
      "metadata": {
        "id": "h2yJSzzp622j"
      },
      "outputs": [],
      "source": [
        "img_size=48"
      ]
    },
    {
      "cell_type": "code",
      "execution_count": 4,
      "metadata": {
        "id": "IIH_MuCk6zPY"
      },
      "outputs": [],
      "source": [
        "#datagen\n",
        "train_datagen = ImageDataGenerator(width_shift_range = 0.1,\n",
        "                                         height_shift_range = 0.1,\n",
        "                                         horizontal_flip = True,\n",
        "                                         rescale = 1./255,\n",
        "                                         validation_split = 0.2\n",
        "                                        )\n",
        "validation_datagen = ImageDataGenerator(rescale = 1./255,\n",
        "                                         validation_split = 0.2)"
      ]
    },
    {
      "cell_type": "code",
      "execution_count": 5,
      "metadata": {
        "colab": {
          "base_uri": "https://localhost:8080/"
        },
        "id": "uxktXRlR6qFF",
        "outputId": "b0f34ad5-10a3-43c4-dd17-fbd0e91edcbe"
      },
      "outputs": [
        {
          "name": "stdout",
          "output_type": "stream",
          "text": [
            "Found 22968 images belonging to 7 classes.\n",
            "Found 1432 images belonging to 7 classes.\n"
          ]
        }
      ],
      "source": [
        "train_generator = train_datagen.flow_from_directory(directory = train_dir,\n",
        "                                                    target_size = (img_size,img_size),\n",
        "                                                    batch_size = 64,\n",
        "                                                    color_mode = \"grayscale\",\n",
        "                                                    class_mode = \"categorical\",\n",
        "                                                    subset = \"training\"\n",
        "                                                   )\n",
        "validation_generator = validation_datagen.flow_from_directory( directory = test_dir,\n",
        "                                                              target_size = (img_size,img_size),\n",
        "                                                              batch_size = 64,\n",
        "                                                              color_mode = \"grayscale\",\n",
        "                                                              class_mode = \"categorical\",\n",
        "                                                              subset = \"validation\"\n",
        "                                                             )"
      ]
    },
    {
      "cell_type": "code",
      "execution_count": 7,
      "metadata": {
        "id": "kvaso8si7YKE"
      },
      "outputs": [],
      "source": [
        "import tensorflow as tf\n",
        "import keras\n",
        "from keras.layers import Conv2D, MaxPool2D, Flatten,Dense,Dropout,BatchNormalization\n",
        "\n",
        "model= tf.keras.models.Sequential()\n",
        "model.add(Conv2D(32, kernel_size=(3, 3), padding='same', activation='relu', input_shape=(48, 48,1)))\n",
        "model.add(Conv2D(64,(3,3), padding='same', activation='relu' ))\n",
        "model.add(BatchNormalization())\n",
        "model.add(MaxPool2D(pool_size=(2, 2)))\n",
        "model.add(Dropout(0.25))\n",
        "\n",
        "model.add(Conv2D(128,(5,5), padding='same', activation='relu'))\n",
        "model.add(BatchNormalization())\n",
        "model.add(MaxPool2D(pool_size=(2, 2)))\n",
        "model.add(Dropout(0.25))\n",
        "    \n",
        "model.add(Conv2D(512,(3,3), padding='same', activation='relu'))\n",
        "model.add(BatchNormalization())\n",
        "model.add(MaxPool2D(pool_size=(2, 2)))\n",
        "model.add(Dropout(0.25))\n",
        "model.add(Conv2D(512,(3,3), padding='same', activation='relu'))\n",
        "model.add(BatchNormalization())\n",
        "model.add(MaxPool2D(pool_size=(2, 2)))\n",
        "model.add(Dropout(0.25))\n",
        "\n",
        "model.add(Flatten()) \n",
        "model.add(Dense(256,activation = 'relu'))\n",
        "model.add(BatchNormalization())\n",
        "model.add(Dropout(0.25))\n",
        "    \n",
        "model.add(Dense(512,activation = 'relu'))\n",
        "model.add(BatchNormalization())\n",
        "model.add(Dropout(0.25))\n",
        "\n",
        "model.add(Dense(7, activation='softmax'))"
      ]
    },
    {
      "cell_type": "code",
      "execution_count": 8,
      "metadata": {
        "id": "LpZIlxj27kEI"
      },
      "outputs": [
        {
          "name": "stderr",
          "output_type": "stream",
          "text": [
            "C:\\Users\\Alexey\\AppData\\Local\\Programs\\Python\\Python39\\lib\\site-packages\\keras\\optimizer_v2\\optimizer_v2.py:355: UserWarning: The `lr` argument is deprecated, use `learning_rate` instead.\n",
            "  warnings.warn(\n"
          ]
        }
      ],
      "source": [
        "model.compile(\n",
        "    optimizer = Adam(lr=0.001), \n",
        "    loss='categorical_crossentropy', \n",
        "    metrics=['accuracy']\n",
        "  )"
      ]
    },
    {
      "cell_type": "code",
      "execution_count": 9,
      "metadata": {
        "colab": {
          "base_uri": "https://localhost:8080/"
        },
        "id": "wpXSWoGA7nCU",
        "outputId": "92eec585-6b0b-4a9c-ca5e-3e74fd905d05"
      },
      "outputs": [
        {
          "name": "stdout",
          "output_type": "stream",
          "text": [
            "Epoch 1/45\n",
            "359/359 [==============================] - 25s 63ms/step - loss: 2.0654 - accuracy: 0.2312 - val_loss: 2.5435 - val_accuracy: 0.2472\n",
            "Epoch 2/45\n",
            "359/359 [==============================] - 13s 36ms/step - loss: 1.7396 - accuracy: 0.3257 - val_loss: 1.5283 - val_accuracy: 0.4134\n",
            "Epoch 3/45\n",
            "359/359 [==============================] - 13s 36ms/step - loss: 1.5195 - accuracy: 0.4137 - val_loss: 1.3784 - val_accuracy: 0.4623\n",
            "Epoch 4/45\n",
            "359/359 [==============================] - 13s 36ms/step - loss: 1.3625 - accuracy: 0.4773 - val_loss: 1.2371 - val_accuracy: 0.5203\n",
            "Epoch 5/45\n",
            "359/359 [==============================] - 13s 36ms/step - loss: 1.2701 - accuracy: 0.5149 - val_loss: 1.2337 - val_accuracy: 0.5461\n",
            "Epoch 6/45\n",
            "359/359 [==============================] - 13s 36ms/step - loss: 1.2183 - accuracy: 0.5358 - val_loss: 1.1487 - val_accuracy: 0.5740\n",
            "Epoch 7/45\n",
            "359/359 [==============================] - 13s 36ms/step - loss: 1.1763 - accuracy: 0.5503 - val_loss: 1.1898 - val_accuracy: 0.5517\n",
            "Epoch 8/45\n",
            "359/359 [==============================] - 13s 37ms/step - loss: 1.1384 - accuracy: 0.5665 - val_loss: 1.1339 - val_accuracy: 0.5615\n",
            "Epoch 9/45\n",
            "359/359 [==============================] - 13s 36ms/step - loss: 1.1292 - accuracy: 0.5731 - val_loss: 1.1339 - val_accuracy: 0.5838\n",
            "Epoch 10/45\n",
            "359/359 [==============================] - 14s 38ms/step - loss: 1.0991 - accuracy: 0.5848 - val_loss: 1.0772 - val_accuracy: 0.5978\n",
            "Epoch 11/45\n",
            "359/359 [==============================] - 13s 37ms/step - loss: 1.0801 - accuracy: 0.5934 - val_loss: 1.0552 - val_accuracy: 0.6103\n",
            "Epoch 12/45\n",
            "359/359 [==============================] - 13s 36ms/step - loss: 1.0567 - accuracy: 0.6023 - val_loss: 1.0163 - val_accuracy: 0.6131\n",
            "Epoch 13/45\n",
            "359/359 [==============================] - 13s 36ms/step - loss: 1.0407 - accuracy: 0.6045 - val_loss: 1.0723 - val_accuracy: 0.6041\n",
            "Epoch 14/45\n",
            "359/359 [==============================] - 13s 35ms/step - loss: 1.0325 - accuracy: 0.6098 - val_loss: 1.0756 - val_accuracy: 0.6027\n",
            "Epoch 15/45\n",
            "359/359 [==============================] - 12s 35ms/step - loss: 1.0079 - accuracy: 0.6226 - val_loss: 1.0267 - val_accuracy: 0.6138\n",
            "Epoch 16/45\n",
            "359/359 [==============================] - 13s 35ms/step - loss: 0.9948 - accuracy: 0.6253 - val_loss: 1.0358 - val_accuracy: 0.6201os\n",
            "Epoch 17/45\n",
            "359/359 [==============================] - 12s 34ms/step - loss: 0.9881 - accuracy: 0.6307 - val_loss: 1.0113 - val_accuracy: 0.6159\n",
            "Epoch 18/45\n",
            "359/359 [==============================] - 13s 35ms/step - loss: 0.9811 - accuracy: 0.6316 - val_loss: 1.0342 - val_accuracy: 0.6201\n",
            "Epoch 19/45\n",
            "359/359 [==============================] - 13s 36ms/step - loss: 0.9614 - accuracy: 0.6389 - val_loss: 1.0276 - val_accuracy: 0.6285\n",
            "Epoch 20/45\n",
            "359/359 [==============================] - 13s 35ms/step - loss: 0.9428 - accuracy: 0.6464 - val_loss: 0.9652 - val_accuracy: 0.6334\n",
            "Epoch 21/45\n",
            "359/359 [==============================] - 13s 36ms/step - loss: 0.9361 - accuracy: 0.6470 - val_loss: 1.0187 - val_accuracy: 0.6215\n",
            "Epoch 22/45\n",
            "359/359 [==============================] - 13s 37ms/step - loss: 0.9284 - accuracy: 0.6501 - val_loss: 0.9971 - val_accuracy: 0.6187\n",
            "Epoch 23/45\n",
            "359/359 [==============================] - 13s 35ms/step - loss: 0.9173 - accuracy: 0.6523 - val_loss: 0.9821 - val_accuracy: 0.6348\n",
            "Epoch 24/45\n",
            "359/359 [==============================] - 13s 36ms/step - loss: 0.9110 - accuracy: 0.6540 - val_loss: 1.0433 - val_accuracy: 0.6264\n",
            "Epoch 25/45\n",
            "359/359 [==============================] - 13s 36ms/step - loss: 0.8912 - accuracy: 0.6682 - val_loss: 1.0986 - val_accuracy: 0.6180\n",
            "Epoch 26/45\n",
            "359/359 [==============================] - 13s 36ms/step - loss: 0.8956 - accuracy: 0.6678 - val_loss: 1.0014 - val_accuracy: 0.6362\n",
            "Epoch 27/45\n",
            "359/359 [==============================] - 13s 35ms/step - loss: 0.8775 - accuracy: 0.6708 - val_loss: 0.9718 - val_accuracy: 0.6355774 - accuracy\n",
            "Epoch 28/45\n",
            "359/359 [==============================] - 13s 37ms/step - loss: 0.8714 - accuracy: 0.6714 - val_loss: 0.9764 - val_accuracy: 0.6432\n",
            "Epoch 29/45\n",
            "359/359 [==============================] - 13s 36ms/step - loss: 0.8620 - accuracy: 0.6775 - val_loss: 0.9998 - val_accuracy: 0.6313\n",
            "Epoch 30/45\n",
            "359/359 [==============================] - 13s 36ms/step - loss: 0.8552 - accuracy: 0.6779 - val_loss: 1.0268 - val_accuracy: 0.6327\n",
            "Epoch 31/45\n",
            "359/359 [==============================] - 12s 35ms/step - loss: 0.8378 - accuracy: 0.6866 - val_loss: 0.9552 - val_accuracy: 0.6655\n",
            "Epoch 32/45\n",
            "359/359 [==============================] - 13s 36ms/step - loss: 0.8466 - accuracy: 0.6859 - val_loss: 0.9741 - val_accuracy: 0.6383\n",
            "Epoch 33/45\n",
            "359/359 [==============================] - 13s 35ms/step - loss: 0.8234 - accuracy: 0.6929 - val_loss: 0.9652 - val_accuracy: 0.6592\n",
            "Epoch 34/45\n",
            "359/359 [==============================] - 13s 35ms/step - loss: 0.8174 - accuracy: 0.6941 - val_loss: 0.9945 - val_accuracy: 0.6418os - ETA: 0s - loss: 0.8169 - accuracy: 0.\n",
            "Epoch 35/45\n",
            "359/359 [==============================] - 14s 39ms/step - loss: 0.8072 - accuracy: 0.6999 - val_loss: 0.9329 - val_accuracy: 0.6739\n",
            "Epoch 36/45\n",
            "359/359 [==============================] - 14s 38ms/step - loss: 0.7945 - accuracy: 0.7047 - val_loss: 0.9653 - val_accuracy: 0.6613\n",
            "Epoch 37/45\n",
            "359/359 [==============================] - 13s 36ms/step - loss: 0.7976 - accuracy: 0.7008 - val_loss: 0.9571 - val_accuracy: 0.6606\n",
            "Epoch 38/45\n",
            "359/359 [==============================] - 14s 38ms/step - loss: 0.7876 - accuracy: 0.7080 - val_loss: 0.9585 - val_accuracy: 0.6620\n",
            "Epoch 39/45\n",
            "359/359 [==============================] - 13s 37ms/step - loss: 0.7828 - accuracy: 0.7049 - val_loss: 0.9415 - val_accuracy: 0.6746\n",
            "Epoch 40/45\n",
            "359/359 [==============================] - 13s 37ms/step - loss: 0.7610 - accuracy: 0.7156 - val_loss: 0.9532 - val_accuracy: 0.6739\n",
            "Epoch 41/45\n",
            "359/359 [==============================] - 13s 37ms/step - loss: 0.7655 - accuracy: 0.7145 - val_loss: 0.9464 - val_accuracy: 0.6613\n",
            "Epoch 42/45\n",
            "359/359 [==============================] - 13s 36ms/step - loss: 0.7558 - accuracy: 0.7204 - val_loss: 0.9602 - val_accuracy: 0.6522.7527 - accura - ETA: 0s - loss: 0.7552 - accuracy\n",
            "Epoch 43/45\n",
            "359/359 [==============================] - 13s 37ms/step - loss: 0.7502 - accuracy: 0.7217 - val_loss: 0.9729 - val_accuracy: 0.6536\n",
            "Epoch 44/45\n",
            "359/359 [==============================] - 13s 37ms/step - loss: 0.7423 - accuracy: 0.7228 - val_loss: 0.9613 - val_accuracy: 0.6683\n",
            "Epoch 45/45\n",
            "359/359 [==============================] - 13s 36ms/step - loss: 0.7308 - accuracy: 0.7292 - val_loss: 1.1124 - val_accuracy: 0.6194\n"
          ]
        }
      ],
      "source": [
        "epochs = 45\n",
        "batch_size = 64\n",
        "history = model.fit(x = train_generator,epochs = epochs,validation_data = validation_generator)"
      ]
    },
    {
      "cell_type": "code",
      "execution_count": 10,
      "metadata": {
        "colab": {
          "base_uri": "https://localhost:8080/",
          "height": 257
        },
        "id": "UakH5tOC_KjZ",
        "outputId": "b35d117f-bede-4f57-9257-c779c6253fad"
      },
      "outputs": [
        {
          "data": {
            "image/png": "[encoded data removed]",
            "text/plain": [
              "<Figure size 864x288 with 2 Axes>"
            ]
          },
          "metadata": {
            "needs_background": "light"
          },
          "output_type": "display_data"
        }
      ],
      "source": [
        "fig , ax = plt.subplots(1,2)\n",
        "train_acc = history.history['accuracy']\n",
        "train_loss = history.history['loss']\n",
        "fig.set_size_inches(12,4)\n",
        "\n",
        "ax[0].plot(history.history['accuracy'])\n",
        "ax[0].plot(history.history['val_accuracy'])\n",
        "ax[0].set_title('Training Accuracy vs Validation Accuracy')\n",
        "ax[0].set_ylabel('Accuracy')\n",
        "ax[0].set_xlabel('Epoch')\n",
        "ax[0].legend(['Train', 'Validation'], loc='upper left')\n",
        "\n",
        "ax[1].plot(history.history['loss'])\n",
        "ax[1].plot(history.history['val_loss'])\n",
        "ax[1].set_title('Training Loss vs Validation Loss')\n",
        "ax[1].set_ylabel('Loss')\n",
        "ax[1].set_xlabel('Epoch')\n",
        "ax[1].legend(['Train', 'Validation'], loc='upper left')\n",
        "\n",
        "plt.show()\n"
      ]
    },
    {
      "cell_type": "code",
      "execution_count": 11,
      "metadata": {
        "id": "SFmNbsLn_RTI"
      },
      "outputs": [],
      "source": [
        "model.save_weights('model_weights_FER.h5')"
      ]
    },
    {
      "cell_type": "code",
      "execution_count": 12,
      "metadata": {
        "id": "OgxLz01-B1ZZ"
      },
      "outputs": [],
      "source": [
        "from keras.preprocessing import image"
      ]
    },
    {
      "cell_type": "code",
      "execution_count": 13,
      "metadata": {
        "colab": {
          "base_uri": "https://localhost:8080/",
          "height": 284
        },
        "id": "sphClI-kBrnV",
        "outputId": "fffe9765-7f03-40ab-816a-dd7589e27f73"
      },
      "outputs": [
        {
          "name": "stdout",
          "output_type": "stream",
          "text": [
            "(48, 48)\n"
          ]
        },
        {
          "data": {
            "image/png": "[encoded data removed]",
            "text/plain": [
              "<Figure size 432x288 with 1 Axes>"
            ]
          },
          "metadata": {
            "needs_background": "light"
          },
          "output_type": "display_data"
        }
      ],
      "source": [
        "img = image.load_img(\"C:/Users/Alexey/Documents/datasets/Emotion detection/test/angry/im10.png\",target_size = (48,48),color_mode = \"grayscale\")\n",
        "img = np.array(img)\n",
        "plt.imshow(img)\n",
        "print(img.shape) #prints (48,48) that is the shape of our image"
      ]
    },
    {
      "cell_type": "code",
      "execution_count": 15,
      "metadata": {
        "colab": {
          "base_uri": "https://localhost:8080/"
        },
        "id": "4HCkMGzfCV0o",
        "outputId": "271d71e4-14f7-4165-8ff8-d9c2a61b08c3"
      },
      "outputs": [
        {
          "name": "stdout",
          "output_type": "stream",
          "text": [
            "359/359 [==============================] - 13s 35ms/step - loss: 0.6841 - accuracy: 0.74072s - loss:\n",
            "23/23 [==============================] - 0s 17ms/step - loss: 1.1124 - accuracy: 0.6194\n",
            "final train accuracy = 74.07 , validation accuracy = 61.94\n"
          ]
        }
      ],
      "source": [
        "train_loss, train_acc = model.evaluate(train_generator)\n",
        "test_loss, test_acc   = model.evaluate(validation_generator)\n",
        "print(\"final train accuracy = {:.2f} , validation accuracy = {:.2f}\".format(train_acc*100, test_acc*100))"
      ]
    },
    {
      "cell_type": "code",
      "execution_count": null,
      "metadata": {},
      "outputs": [],
      "source": []
    }
  ],
  "metadata": {
    "colab": {
      "collapsed_sections": [],
      "name": "Emotion classification.ipynb",
      "provenance": []
    },
    "kernelspec": {
      "display_name": "Python 3",
      "name": "python3"
    },
    "language_info": {
      "codemirror_mode": {
        "name": "ipython",
        "version": 3
      },
      "file_extension": ".py",
      "mimetype": "text/x-python",
      "name": "python",
      "nbconvert_exporter": "python",
      "pygments_lexer": "ipython3",
      "version": "3.9.8"
    }
  },
  "nbformat": 4,
  "nbformat_minor": 0
}
