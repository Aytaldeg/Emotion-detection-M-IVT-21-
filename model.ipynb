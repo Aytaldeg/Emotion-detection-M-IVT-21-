{
  "nbformat": 4,
  "nbformat_minor": 0,
  "metadata": {
    "colab": {
      "name": "Emotion classification.ipynb",
      "provenance": [],
      "collapsed_sections": []
    },
    "kernelspec": {
      "name": "python3",
      "display_name": "Python 3"
    },
    "language_info": {
      "name": "python"
    }
  },
  "cells": [
    {
      "cell_type": "code",
      "execution_count": null,
      "metadata": {
        "id": "9ur5RpMB5IcJ"
      },
      "outputs": [],
      "source": [
        "from tensorflow.keras.preprocessing.image import ImageDataGenerator\n",
        "from tensorflow.keras.layers import GlobalAveragePooling2D\n",
        "from tensorflow.keras.layers import BatchNormalization\n",
        "from tensorflow.keras.applications import MobileNetV2\n",
        "from tensorflow.keras.optimizers import Adam\n",
        "from tensorflow.keras.layers import Dropout\n",
        "from tensorflow.keras.layers import Dense\n",
        "from tensorflow.keras import Sequential\n",
        "import matplotlib.pyplot as plt\n",
        "import tensorflow as tf\n",
        "import splitfolders  \n",
        "import numpy as np\n",
        "import pandas as pd\n",
        "import cv2\n",
        "import os\n",
        "import numpy \n",
        "from PIL import Image\n",
        "from sklearn import preprocessing\n",
        "import random"
      ]
    },
    {
      "cell_type": "code",
      "source": [
        "train_dir = \"C:/Users/Alexey/Documents/datasets/Emotion detection/train\"\n",
        "test_dir = \"C:/Users/Alexey/Documents/datasets/Emotion detection/test\""
      ],
      "metadata": {
        "id": "ApPeslHd5RSr"
      },
      "execution_count": null,
      "outputs": []
    },
    {
      "cell_type": "code",
      "source": [
        "img_size=48"
      ],
      "metadata": {
        "id": "h2yJSzzp622j"
      },
      "execution_count": null,
      "outputs": []
    },
    {
      "cell_type": "code",
      "source": [
        "train_datagen = ImageDataGenerator(width_shift_range = 0.1,\n",
        "                                         height_shift_range = 0.1,\n",
        "                                         horizontal_flip = True,\n",
        "                                         rescale = 1./255,\n",
        "                                         validation_split = 0.2\n",
        "                                        )\n",
        "validation_datagen = ImageDataGenerator(rescale = 1./255,\n",
        "                                         validation_split = 0.2)"
      ],
      "metadata": {
        "id": "IIH_MuCk6zPY"
      },
      "execution_count": null,
      "outputs": []
    },
    {
      "cell_type": "code",
      "source": [
        "train_generator = train_datagen.flow_from_directory(directory = train_dir,\n",
        "                                                    target_size = (img_size,img_size),\n",
        "                                                    batch_size = 64,\n",
        "                                                    color_mode = \"grayscale\",\n",
        "                                                    class_mode = \"categorical\",\n",
        "                                                    subset = \"training\"\n",
        "                                                   )\n",
        "validation_generator = validation_datagen.flow_from_directory( directory = test_dir,\n",
        "                                                              target_size = (img_size,img_size),\n",
        "                                                              batch_size = 64,\n",
        "                                                              color_mode = \"grayscale\",\n",
        "                                                              class_mode = \"categorical\",\n",
        "                                                              subset = \"validation\"\n",
        "                                                             )"
      ],
      "metadata": {
        "colab": {
          "base_uri": "https://localhost:8080/"
        },
        "id": "uxktXRlR6qFF",
        "outputId": "b0f34ad5-10a3-43c4-dd17-fbd0e91edcbe"
      },
      "execution_count": null,
      "outputs": [
        {
          "output_type": "stream",
          "name": "stdout",
          "text": [
            "Found 22968 images belonging to 7 classes.\n",
            "Found 1432 images belonging to 7 classes.\n"
          ]
        }
      ]
    },
    {
      "cell_type": "code",
      "source": [
        "import tensorflow as tf\n",
        "import keras\n",
        "from keras.layers import Conv2D, MaxPool2D, Flatten,Dense,Dropout,BatchNormalization\n",
        "\n",
        "model= tf.keras.models.Sequential()\n",
        "model.add(Conv2D(32, kernel_size=(3, 3), padding='same', activation='relu', input_shape=(48, 48,1)))\n",
        "model.add(Conv2D(64,(3,3), padding='same', activation='relu' ))\n",
        "model.add(BatchNormalization())\n",
        "model.add(MaxPool2D(pool_size=(2, 2)))\n",
        "model.add(Dropout(0.25))\n",
        "\n",
        "model.add(Conv2D(128,(5,5), padding='same', activation='relu'))\n",
        "model.add(BatchNormalization())\n",
        "model.add(MaxPool2D(pool_size=(2, 2)))\n",
        "model.add(Dropout(0.25))\n",
        "    \n",
        "model.add(Conv2D(512,(3,3), padding='same', activation='relu'))\n",
        "model.add(BatchNormalization())\n",
        "model.add(MaxPool2D(pool_size=(2, 2)))\n",
        "model.add(Dropout(0.25))\n",
        "model.add(Conv2D(512,(3,3), padding='same', activation='relu'))\n",
        "model.add(BatchNormalization())\n",
        "model.add(MaxPool2D(pool_size=(2, 2)))\n",
        "model.add(Dropout(0.25))\n",
        "\n",
        "model.add(Flatten()) \n",
        "model.add(Dense(256,activation = 'relu'))\n",
        "model.add(BatchNormalization())\n",
        "model.add(Dropout(0.25))\n",
        "    \n",
        "model.add(Dense(512,activation = 'relu'))\n",
        "model.add(BatchNormalization())\n",
        "model.add(Dropout(0.25))\n",
        "\n",
        "model.add(Dense(7, activation='softmax'))"
      ],
      "metadata": {
        "id": "kvaso8si7YKE"
      },
      "execution_count": null,
      "outputs": []
    },
    {
      "cell_type": "code",
      "source": [
        "model.compile(\n",
        "    optimizer = Adam(lr=0.001), \n",
        "    loss='categorical_crossentropy', \n",
        "    metrics=['accuracy']\n",
        "  )"
      ],
      "metadata": {
        "id": "LpZIlxj27kEI"
      },
      "execution_count": null,
      "outputs": []
    },
    {
      "cell_type": "code",
      "source": [
        "epochs = 45\n",
        "batch_size = 64\n",
        "history = model.fit(x = train_generator,epochs = epochs,validation_data = validation_generator)"
      ],
      "metadata": {
        "colab": {
          "base_uri": "https://localhost:8080/"
        },
        "id": "wpXSWoGA7nCU",
        "outputId": "92eec585-6b0b-4a9c-ca5e-3e74fd905d05"
      },
      "execution_count": null,
      "outputs": [
        {
          "output_type": "stream",
          "name": "stdout",
          "text": [
            "Epoch 1/45\n",
            "359/359 [==============================] - 131s 364ms/step - loss: 0.3510 - accuracy: 0.8739 - val_loss: 1.2614 - val_accuracy: 0.6830\n",
            "Epoch 2/45\n",
            "359/359 [==============================] - 14s 38ms/step - loss: 0.3423 - accuracy: 0.8754 - val_loss: 1.2605 - val_accuracy: 0.6934\n",
            "Epoch 3/45\n",
            "359/359 [==============================] - 14s 40ms/step - loss: 0.3403 - accuracy: 0.8773 - val_loss: 1.2702 - val_accuracy: 0.6837\n",
            "Epoch 4/45\n",
            "359/359 [==============================] - 14s 38ms/step - loss: 0.3333 - accuracy: 0.8785 - val_loss: 1.3301 - val_accuracy: 0.6892\n",
            "Epoch 5/45\n",
            "359/359 [==============================] - 14s 38ms/step - loss: 0.3455 - accuracy: 0.8747 - val_loss: 1.2705 - val_accuracy: 0.6809\n",
            "Epoch 6/45\n",
            "359/359 [==============================] - 14s 38ms/step - loss: 0.3389 - accuracy: 0.8762 - val_loss: 1.2940 - val_accuracy: 0.6872\n",
            "Epoch 7/45\n",
            "359/359 [==============================] - 14s 38ms/step - loss: 0.3367 - accuracy: 0.8770 - val_loss: 1.2239 - val_accuracy: 0.6872\n",
            "Epoch 8/45\n",
            "359/359 [==============================] - 14s 38ms/step - loss: 0.3312 - accuracy: 0.8764 - val_loss: 1.2823 - val_accuracy: 0.6844\n",
            "Epoch 9/45\n",
            "359/359 [==============================] - 14s 38ms/step - loss: 0.3329 - accuracy: 0.8785 - val_loss: 1.2782 - val_accuracy: 0.6858\n",
            "Epoch 10/45\n",
            "359/359 [==============================] - 14s 38ms/step - loss: 0.3225 - accuracy: 0.8824 - val_loss: 1.2831 - val_accuracy: 0.6899\n",
            "Epoch 11/45\n",
            "359/359 [==============================] - 14s 38ms/step - loss: 0.3343 - accuracy: 0.8793 - val_loss: 1.2798 - val_accuracy: 0.6865\n",
            "Epoch 12/45\n",
            "359/359 [==============================] - 14s 38ms/step - loss: 0.3221 - accuracy: 0.8807 - val_loss: 1.2506 - val_accuracy: 0.6753\n",
            "Epoch 13/45\n",
            "359/359 [==============================] - 14s 38ms/step - loss: 0.3230 - accuracy: 0.8817 - val_loss: 1.2806 - val_accuracy: 0.6823\n",
            "Epoch 14/45\n",
            "359/359 [==============================] - 14s 39ms/step - loss: 0.3258 - accuracy: 0.8807 - val_loss: 1.3681 - val_accuracy: 0.6802\n",
            "Epoch 15/45\n",
            "359/359 [==============================] - 14s 38ms/step - loss: 0.3253 - accuracy: 0.8813 - val_loss: 1.2800 - val_accuracy: 0.6878\n",
            "Epoch 16/45\n",
            "359/359 [==============================] - 14s 38ms/step - loss: 0.3265 - accuracy: 0.8808 - val_loss: 1.2973 - val_accuracy: 0.6767\n",
            "Epoch 17/45\n",
            "359/359 [==============================] - 14s 38ms/step - loss: 0.3292 - accuracy: 0.8796 - val_loss: 1.2227 - val_accuracy: 0.6878\n",
            "Epoch 18/45\n",
            "359/359 [==============================] - 14s 38ms/step - loss: 0.3230 - accuracy: 0.8820 - val_loss: 1.2540 - val_accuracy: 0.6906\n",
            "Epoch 19/45\n",
            "359/359 [==============================] - 14s 39ms/step - loss: 0.3210 - accuracy: 0.8842 - val_loss: 1.3107 - val_accuracy: 0.6851\n",
            "Epoch 20/45\n",
            "359/359 [==============================] - 15s 41ms/step - loss: 0.3183 - accuracy: 0.8824 - val_loss: 1.2984 - val_accuracy: 0.6844\n",
            "Epoch 21/45\n",
            "359/359 [==============================] - 15s 43ms/step - loss: 0.3182 - accuracy: 0.8841 - val_loss: 1.2751 - val_accuracy: 0.6899\n",
            "Epoch 22/45\n",
            "359/359 [==============================] - 15s 43ms/step - loss: 0.3177 - accuracy: 0.8824 - val_loss: 1.3172 - val_accuracy: 0.6725\n",
            "Epoch 23/45\n",
            "359/359 [==============================] - 14s 40ms/step - loss: 0.3106 - accuracy: 0.8849 - val_loss: 1.3104 - val_accuracy: 0.6816\n",
            "Epoch 24/45\n",
            "359/359 [==============================] - 14s 38ms/step - loss: 0.3134 - accuracy: 0.8862 - val_loss: 1.3223 - val_accuracy: 0.6858\n",
            "Epoch 25/45\n",
            "359/359 [==============================] - 13s 37ms/step - loss: 0.3069 - accuracy: 0.8871 - val_loss: 1.3249 - val_accuracy: 0.6885\n",
            "Epoch 26/45\n",
            "359/359 [==============================] - 14s 38ms/step - loss: 0.3099 - accuracy: 0.8871 - val_loss: 1.3260 - val_accuracy: 0.6781\n",
            "Epoch 27/45\n",
            "359/359 [==============================] - 14s 38ms/step - loss: 0.3119 - accuracy: 0.8849 - val_loss: 1.3495 - val_accuracy: 0.6878\n",
            "Epoch 28/45\n",
            "359/359 [==============================] - 14s 38ms/step - loss: 0.3120 - accuracy: 0.8851 - val_loss: 1.2815 - val_accuracy: 0.6823\n",
            "Epoch 29/45\n",
            "359/359 [==============================] - 14s 40ms/step - loss: 0.3130 - accuracy: 0.8865 - val_loss: 1.3145 - val_accuracy: 0.6823\n",
            "Epoch 30/45\n",
            "359/359 [==============================] - 14s 39ms/step - loss: 0.3030 - accuracy: 0.8882 - val_loss: 1.3081 - val_accuracy: 0.6920\n",
            "Epoch 31/45\n",
            "359/359 [==============================] - 14s 40ms/step - loss: 0.2995 - accuracy: 0.8905 - val_loss: 1.3303 - val_accuracy: 0.6885\n",
            "Epoch 32/45\n",
            "359/359 [==============================] - 14s 39ms/step - loss: 0.2989 - accuracy: 0.8868 - val_loss: 1.3831 - val_accuracy: 0.6851\n",
            "Epoch 33/45\n",
            "359/359 [==============================] - 15s 42ms/step - loss: 0.3064 - accuracy: 0.8913 - val_loss: 1.3244 - val_accuracy: 0.6844\n",
            "Epoch 34/45\n",
            "359/359 [==============================] - 14s 39ms/step - loss: 0.2999 - accuracy: 0.8896 - val_loss: 1.4051 - val_accuracy: 0.6753\n",
            "Epoch 35/45\n",
            "359/359 [==============================] - 14s 38ms/step - loss: 0.3033 - accuracy: 0.8882 - val_loss: 1.3895 - val_accuracy: 0.6816\n",
            "Epoch 36/45\n",
            "359/359 [==============================] - 14s 38ms/step - loss: 0.3029 - accuracy: 0.8899 - val_loss: 1.2880 - val_accuracy: 0.6851\n",
            "Epoch 37/45\n",
            "359/359 [==============================] - 14s 39ms/step - loss: 0.2971 - accuracy: 0.8916 - val_loss: 1.3272 - val_accuracy: 0.6809\n",
            "Epoch 38/45\n",
            "359/359 [==============================] - 14s 40ms/step - loss: 0.2956 - accuracy: 0.8919 - val_loss: 1.2943 - val_accuracy: 0.6865\n",
            "Epoch 39/45\n",
            "359/359 [==============================] - 14s 38ms/step - loss: 0.2966 - accuracy: 0.8918 - val_loss: 1.2995 - val_accuracy: 0.6913\n",
            "Epoch 40/45\n",
            "359/359 [==============================] - 14s 38ms/step - loss: 0.2890 - accuracy: 0.8932 - val_loss: 1.3338 - val_accuracy: 0.6955\n",
            "Epoch 41/45\n",
            "359/359 [==============================] - 14s 38ms/step - loss: 0.2920 - accuracy: 0.8921 - val_loss: 1.2991 - val_accuracy: 0.6878\n",
            "Epoch 42/45\n",
            "359/359 [==============================] - 15s 43ms/step - loss: 0.2986 - accuracy: 0.8901 - val_loss: 1.3781 - val_accuracy: 0.6878\n",
            "Epoch 43/45\n",
            "359/359 [==============================] - 15s 41ms/step - loss: 0.2937 - accuracy: 0.8942 - val_loss: 1.2819 - val_accuracy: 0.7032\n",
            "Epoch 44/45\n",
            "359/359 [==============================] - 14s 40ms/step - loss: 0.2859 - accuracy: 0.8949 - val_loss: 1.2836 - val_accuracy: 0.6739\n",
            "Epoch 45/45\n",
            "359/359 [==============================] - 15s 41ms/step - loss: 0.2875 - accuracy: 0.8975 - val_loss: 1.3314 - val_accuracy: 0.6913\n"
          ]
        }
      ]
    },
    {
      "cell_type": "code",
      "source": [
        "fig , ax = plt.subplots(1,2)\n",
        "train_acc = history.history['accuracy']\n",
        "train_loss = history.history['loss']\n",
        "fig.set_size_inches(12,4)\n",
        "\n",
        "ax[0].plot(history.history['accuracy'])\n",
        "ax[0].plot(history.history['val_accuracy'])\n",
        "ax[0].set_title('Training Accuracy vs Validation Accuracy')\n",
        "ax[0].set_ylabel('Accuracy')\n",
        "ax[0].set_xlabel('Epoch')\n",
        "ax[0].legend(['Train', 'Validation'], loc='upper left')\n",
        "\n",
        "ax[1].plot(history.history['loss'])\n",
        "ax[1].plot(history.history['val_loss'])\n",
        "ax[1].set_title('Training Loss vs Validation Loss')\n",
        "ax[1].set_ylabel('Loss')\n",
        "ax[1].set_xlabel('Epoch')\n",
        "ax[1].legend(['Train', 'Validation'], loc='upper left')\n",
        "\n",
        "plt.show()\n"
      ],
      "metadata": {
        "colab": {
          "base_uri": "https://localhost:8080/",
          "height": 257
        },
        "id": "UakH5tOC_KjZ",
        "outputId": "b35d117f-bede-4f57-9257-c779c6253fad"
      },
      "execution_count": null,
      "outputs": [
        {
          "output_type": "display_data",
          "data": {
            "text/plain": [
              "<Figure size 864x288 with 2 Axes>"
            ],
            "image/png": "[encoded data removed]"
          },
          "metadata": {
            "needs_background": "light"
          }
        }
      ]
    },
    {
      "cell_type": "code",
      "source": [
        "model.save_weights('model_weights_FER.h5')"
      ],
      "metadata": {
        "id": "SFmNbsLn_RTI"
      },
      "execution_count": null,
      "outputs": []
    },
    {
      "cell_type": "code",
      "source": [
        "from keras.preprocessing import image"
      ],
      "metadata": {
        "id": "OgxLz01-B1ZZ"
      },
      "execution_count": null,
      "outputs": []
    },
    {
      "cell_type": "code",
      "source": [
        "img = image.load_img(\"C:/Users/Alexey/Documents/datasets/Emotion detection/test/angry/im10.png\",target_size = (48,48),color_mode = \"grayscale\")\n",
        "img = np.array(img)\n",
        "plt.imshow(img)\n",
        "print(img.shape) #prints (48,48) that is the shape of our image"
      ],
      "metadata": {
        "colab": {
          "base_uri": "https://localhost:8080/",
          "height": 284
        },
        "id": "sphClI-kBrnV",
        "outputId": "fffe9765-7f03-40ab-816a-dd7589e27f73"
      },
      "execution_count": null,
      "outputs": [
        {
          "output_type": "stream",
          "name": "stdout",
          "text": [
            "(48, 48)\n"
          ]
        },
        {
          "output_type": "display_data",
          "data": {
            "text/plain": [
              "<Figure size 432x288 with 1 Axes>"
            ],
            "image/png": "[encoded data removed]"
          },
          "metadata": {
            "needs_background": "light"
          }
        }
      ]
    },
    {
      "cell_type": "code",
      "source": [
        "print(validation_generator[2][1])"
      ],
      "metadata": {
        "colab": {
          "base_uri": "https://localhost:8080/"
        },
        "id": "i0xGd_BeaCYD",
        "outputId": "ee023503-70e7-4178-c80a-2b5514361207"
      },
      "execution_count": null,
      "outputs": [
        {
          "output_type": "stream",
          "name": "stdout",
          "text": [
            "[[1. 0. 0. 0. 0. 0. 0.]\n",
            " [0. 0. 1. 0. 0. 0. 0.]\n",
            " [0. 0. 0. 1. 0. 0. 0.]\n",
            " [0. 0. 0. 0. 0. 0. 1.]\n",
            " [0. 0. 0. 1. 0. 0. 0.]\n",
            " [0. 0. 0. 0. 0. 1. 0.]\n",
            " [0. 0. 0. 1. 0. 0. 0.]\n",
            " [0. 0. 0. 1. 0. 0. 0.]\n",
            " [0. 0. 0. 0. 1. 0. 0.]\n",
            " [0. 0. 0. 0. 0. 1. 0.]\n",
            " [0. 0. 0. 1. 0. 0. 0.]\n",
            " [0. 0. 0. 0. 1. 0. 0.]\n",
            " [1. 0. 0. 0. 0. 0. 0.]\n",
            " [0. 0. 0. 0. 1. 0. 0.]\n",
            " [0. 0. 0. 0. 0. 0. 1.]\n",
            " [0. 0. 0. 1. 0. 0. 0.]\n",
            " [0. 0. 0. 0. 1. 0. 0.]\n",
            " [0. 0. 0. 0. 0. 1. 0.]\n",
            " [0. 0. 1. 0. 0. 0. 0.]\n",
            " [1. 0. 0. 0. 0. 0. 0.]\n",
            " [0. 0. 0. 0. 1. 0. 0.]\n",
            " [0. 0. 0. 0. 1. 0. 0.]\n",
            " [1. 0. 0. 0. 0. 0. 0.]\n",
            " [0. 0. 0. 0. 0. 1. 0.]\n",
            " [0. 0. 0. 0. 1. 0. 0.]\n",
            " [0. 0. 1. 0. 0. 0. 0.]\n",
            " [0. 0. 1. 0. 0. 0. 0.]\n",
            " [0. 0. 0. 0. 0. 0. 1.]\n",
            " [0. 0. 1. 0. 0. 0. 0.]\n",
            " [1. 0. 0. 0. 0. 0. 0.]\n",
            " [0. 0. 0. 0. 0. 1. 0.]\n",
            " [0. 0. 0. 0. 1. 0. 0.]\n",
            " [1. 0. 0. 0. 0. 0. 0.]\n",
            " [0. 0. 0. 0. 0. 1. 0.]\n",
            " [0. 0. 0. 0. 0. 1. 0.]\n",
            " [0. 0. 0. 0. 0. 0. 1.]\n",
            " [0. 0. 0. 0. 1. 0. 0.]\n",
            " [0. 0. 0. 0. 0. 1. 0.]\n",
            " [0. 0. 0. 0. 0. 0. 1.]\n",
            " [0. 0. 0. 0. 0. 1. 0.]\n",
            " [0. 0. 0. 0. 0. 1. 0.]\n",
            " [1. 0. 0. 0. 0. 0. 0.]\n",
            " [0. 0. 0. 0. 0. 0. 1.]\n",
            " [0. 0. 0. 1. 0. 0. 0.]\n",
            " [1. 0. 0. 0. 0. 0. 0.]\n",
            " [0. 0. 0. 0. 0. 0. 1.]\n",
            " [0. 0. 0. 0. 0. 1. 0.]\n",
            " [0. 0. 0. 0. 1. 0. 0.]\n",
            " [0. 0. 0. 0. 1. 0. 0.]\n",
            " [1. 0. 0. 0. 0. 0. 0.]\n",
            " [0. 0. 0. 1. 0. 0. 0.]\n",
            " [0. 0. 0. 0. 0. 1. 0.]\n",
            " [0. 0. 0. 0. 1. 0. 0.]\n",
            " [0. 0. 0. 1. 0. 0. 0.]\n",
            " [0. 0. 1. 0. 0. 0. 0.]\n",
            " [0. 0. 0. 1. 0. 0. 0.]\n",
            " [0. 0. 0. 0. 1. 0. 0.]\n",
            " [0. 0. 0. 1. 0. 0. 0.]\n",
            " [0. 0. 0. 1. 0. 0. 0.]\n",
            " [0. 0. 0. 1. 0. 0. 0.]\n",
            " [0. 0. 0. 1. 0. 0. 0.]\n",
            " [0. 0. 0. 1. 0. 0. 0.]\n",
            " [0. 0. 1. 0. 0. 0. 0.]\n",
            " [0. 0. 0. 0. 1. 0. 0.]]\n"
          ]
        }
      ]
    },
    {
      "cell_type": "code",
      "source": [
        "train_loss, train_acc = model.evaluate(train_generator)\n",
        "test_loss, test_acc   = model.evaluate(validation_generator)\n",
        "print(\"final train accuracy = {:.2f} , validation accuracy = {:.2f}\".format(train_acc*100, test_acc*100))"
      ],
      "metadata": {
        "colab": {
          "base_uri": "https://localhost:8080/"
        },
        "id": "4HCkMGzfCV0o",
        "outputId": "271d71e4-14f7-4165-8ff8-d9c2a61b08c3"
      },
      "execution_count": null,
      "outputs": [
        {
          "output_type": "stream",
          "name": "stdout",
          "text": [
            "359/359 [==============================] - 12s 34ms/step - loss: 0.1258 - accuracy: 0.9641\n",
            "23/23 [==============================] - 0s 17ms/step - loss: 1.2168 - accuracy: 0.6788\n",
            "final train accuracy = 96.41 , validation accuracy = 67.88\n"
          ]
        }
      ]
    },
    {
      "cell_type": "code",
      "source": [
        "img = np.expand_dims(img,axis = 0) #makes image shape (1,48,48)\n",
        "img = img.reshape(1,48,48,1)\n",
        "result = model.predict(img)\n",
        "result = list(result[0])\n",
        "print(result)\n"
      ],
      "metadata": {
        "colab": {
          "base_uri": "https://localhost:8080/",
          "height": 637
        },
        "id": "GHsim1Q6CbKd",
        "outputId": "65700857-16c4-483d-c82c-2e3e5823700c"
      },
      "execution_count": null,
      "outputs": [
        {
          "output_type": "stream",
          "name": "stderr",
          "text": [
            "C:\\Users\\Alexey\\AppData\\Local\\Programs\\Python\\Python39\\lib\\site-packages\\numpy\\core\\_asarray.py:136: VisibleDeprecationWarning: Creating an ndarray from ragged nested sequences (which is a list-or-tuple of lists-or-tuples-or ndarrays with different lengths or shapes) is deprecated. If you meant to do this, you must specify 'dtype=object' when creating the ndarray\n",
            "  return array(a, dtype, copy=False, order=order, subok=True)\n"
          ]
        },
        {
          "output_type": "error",
          "ename": "ValueError",
          "evalue": "ignored",
          "traceback": [
            "\u001b[1;31m---------------------------------------------------------------------------\u001b[0m",
            "\u001b[1;31mValueError\u001b[0m                                Traceback (most recent call last)",
            "\u001b[1;32m~\\AppData\\Local\\Temp/ipykernel_11932/297525745.py\u001b[0m in \u001b[0;36m<module>\u001b[1;34m\u001b[0m\n\u001b[1;32m----> 1\u001b[1;33m \u001b[0mimg\u001b[0m \u001b[1;33m=\u001b[0m \u001b[0mnp\u001b[0m\u001b[1;33m.\u001b[0m\u001b[0mexpand_dims\u001b[0m\u001b[1;33m(\u001b[0m\u001b[0mvalidation_generator\u001b[0m\u001b[1;33m[\u001b[0m\u001b[1;36m0\u001b[0m\u001b[1;33m]\u001b[0m\u001b[1;33m,\u001b[0m\u001b[0maxis\u001b[0m \u001b[1;33m=\u001b[0m \u001b[1;36m0\u001b[0m\u001b[1;33m)\u001b[0m \u001b[1;31m#makes image shape (1,48,48)\u001b[0m\u001b[1;33m\u001b[0m\u001b[1;33m\u001b[0m\u001b[0m\n\u001b[0m\u001b[0;32m      2\u001b[0m \u001b[0mimg\u001b[0m \u001b[1;33m=\u001b[0m \u001b[0mimg\u001b[0m\u001b[1;33m.\u001b[0m\u001b[0mreshape\u001b[0m\u001b[1;33m(\u001b[0m\u001b[1;36m1\u001b[0m\u001b[1;33m,\u001b[0m\u001b[1;36m48\u001b[0m\u001b[1;33m,\u001b[0m\u001b[1;36m48\u001b[0m\u001b[1;33m,\u001b[0m\u001b[1;36m1\u001b[0m\u001b[1;33m)\u001b[0m\u001b[1;33m\u001b[0m\u001b[1;33m\u001b[0m\u001b[0m\n\u001b[0;32m      3\u001b[0m \u001b[0mresult\u001b[0m \u001b[1;33m=\u001b[0m \u001b[0mmodel\u001b[0m\u001b[1;33m.\u001b[0m\u001b[0mpredict\u001b[0m\u001b[1;33m(\u001b[0m\u001b[0mimg\u001b[0m\u001b[1;33m)\u001b[0m\u001b[1;33m\u001b[0m\u001b[1;33m\u001b[0m\u001b[0m\n\u001b[0;32m      4\u001b[0m \u001b[0mresult\u001b[0m \u001b[1;33m=\u001b[0m \u001b[0mlist\u001b[0m\u001b[1;33m(\u001b[0m\u001b[0mresult\u001b[0m\u001b[1;33m[\u001b[0m\u001b[1;36m0\u001b[0m\u001b[1;33m]\u001b[0m\u001b[1;33m)\u001b[0m\u001b[1;33m\u001b[0m\u001b[1;33m\u001b[0m\u001b[0m\n\u001b[0;32m      5\u001b[0m \u001b[0mprint\u001b[0m\u001b[1;33m(\u001b[0m\u001b[0mresult\u001b[0m\u001b[1;33m)\u001b[0m\u001b[1;33m\u001b[0m\u001b[1;33m\u001b[0m\u001b[0m\n",
            "\u001b[1;32m<__array_function__ internals>\u001b[0m in \u001b[0;36mexpand_dims\u001b[1;34m(*args, **kwargs)\u001b[0m\n",
            "\u001b[1;32m~\\AppData\\Local\\Programs\\Python\\Python39\\lib\\site-packages\\numpy\\lib\\shape_base.py\u001b[0m in \u001b[0;36mexpand_dims\u001b[1;34m(a, axis)\u001b[0m\n\u001b[0;32m    589\u001b[0m         \u001b[0ma\u001b[0m \u001b[1;33m=\u001b[0m \u001b[0masarray\u001b[0m\u001b[1;33m(\u001b[0m\u001b[0ma\u001b[0m\u001b[1;33m)\u001b[0m\u001b[1;33m\u001b[0m\u001b[1;33m\u001b[0m\u001b[0m\n\u001b[0;32m    590\u001b[0m     \u001b[1;32melse\u001b[0m\u001b[1;33m:\u001b[0m\u001b[1;33m\u001b[0m\u001b[1;33m\u001b[0m\u001b[0m\n\u001b[1;32m--> 591\u001b[1;33m         \u001b[0ma\u001b[0m \u001b[1;33m=\u001b[0m \u001b[0masanyarray\u001b[0m\u001b[1;33m(\u001b[0m\u001b[0ma\u001b[0m\u001b[1;33m)\u001b[0m\u001b[1;33m\u001b[0m\u001b[1;33m\u001b[0m\u001b[0m\n\u001b[0m\u001b[0;32m    592\u001b[0m \u001b[1;33m\u001b[0m\u001b[0m\n\u001b[0;32m    593\u001b[0m     \u001b[1;32mif\u001b[0m \u001b[0mtype\u001b[0m\u001b[1;33m(\u001b[0m\u001b[0maxis\u001b[0m\u001b[1;33m)\u001b[0m \u001b[1;32mnot\u001b[0m \u001b[1;32min\u001b[0m \u001b[1;33m(\u001b[0m\u001b[0mtuple\u001b[0m\u001b[1;33m,\u001b[0m \u001b[0mlist\u001b[0m\u001b[1;33m)\u001b[0m\u001b[1;33m:\u001b[0m\u001b[1;33m\u001b[0m\u001b[1;33m\u001b[0m\u001b[0m\n",
            "\u001b[1;32m~\\AppData\\Local\\Programs\\Python\\Python39\\lib\\site-packages\\numpy\\core\\_asarray.py\u001b[0m in \u001b[0;36masanyarray\u001b[1;34m(a, dtype, order)\u001b[0m\n\u001b[0;32m    134\u001b[0m \u001b[1;33m\u001b[0m\u001b[0m\n\u001b[0;32m    135\u001b[0m     \"\"\"\n\u001b[1;32m--> 136\u001b[1;33m     \u001b[1;32mreturn\u001b[0m \u001b[0marray\u001b[0m\u001b[1;33m(\u001b[0m\u001b[0ma\u001b[0m\u001b[1;33m,\u001b[0m \u001b[0mdtype\u001b[0m\u001b[1;33m,\u001b[0m \u001b[0mcopy\u001b[0m\u001b[1;33m=\u001b[0m\u001b[1;32mFalse\u001b[0m\u001b[1;33m,\u001b[0m \u001b[0morder\u001b[0m\u001b[1;33m=\u001b[0m\u001b[0morder\u001b[0m\u001b[1;33m,\u001b[0m \u001b[0msubok\u001b[0m\u001b[1;33m=\u001b[0m\u001b[1;32mTrue\u001b[0m\u001b[1;33m)\u001b[0m\u001b[1;33m\u001b[0m\u001b[1;33m\u001b[0m\u001b[0m\n\u001b[0m\u001b[0;32m    137\u001b[0m \u001b[1;33m\u001b[0m\u001b[0m\n\u001b[0;32m    138\u001b[0m \u001b[1;33m\u001b[0m\u001b[0m\n",
            "\u001b[1;31mValueError\u001b[0m: could not broadcast input array from shape (64,48,48,1) into shape (64)"
          ]
        }
      ]
    },
    {
      "cell_type": "code",
      "source": [
        "for i in range(50):\n",
        "  plt.subplot(10,5,i+1)\n",
        "  plt.grid(False)\n",
        "  plt.xticks([])\n",
        "  plt.yticks([])\n",
        "\n",
        "  preds = np.argmax(predictions[[start_index+i]])\n",
        "  gt = y_test[start_index+i]\n",
        "\n",
        "  if gt==1:\n",
        "    gt=0\n",
        "  else:\n",
        "    gt=1\n",
        "\n",
        "  if preds != gt:\n",
        "    col =\"r\"\n",
        "  else:\n",
        "    col = \"g\"\n",
        "  \n",
        "  plt.xlabel('i={}, pred={}, gt={}'.format(start_index+i,preds,gt),color=col)\n",
        "  plt.imshow(load_img(X_test[start_index+i]))\n",
        "  plt.tight_layout()\n",
        "plt.show()\n"
      ],
      "metadata": {
        "id": "lgijAQ5fZ9VI"
      },
      "execution_count": null,
      "outputs": []
    }
  ]
}