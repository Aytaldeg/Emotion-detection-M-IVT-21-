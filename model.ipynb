{
  "cells": [
    {
      "cell_type": "code",
      "execution_count": 1,
      "metadata": {
        "id": "9ur5RpMB5IcJ"
      },
      "outputs": [],
      "source": [
        "#import librares\n",
        "from tensorflow.keras.preprocessing.image import ImageDataGenerator\n",
        "from tensorflow.keras.layers import GlobalAveragePooling2D\n",
        "from tensorflow.keras.layers import BatchNormalization\n",
        "from tensorflow.keras.applications import MobileNetV2\n",
        "from tensorflow.keras.optimizers import Adam\n",
        "from tensorflow.keras.layers import Dropout\n",
        "from tensorflow.keras.layers import Dense\n",
        "from tensorflow.keras import Sequential\n",
        "import matplotlib.pyplot as plt\n",
        "import tensorflow as tf\n",
        "import splitfolders  \n",
        "import numpy as np\n",
        "import pandas as pd\n",
        "import cv2\n",
        "import os\n",
        "import numpy \n",
        "from PIL import Image\n",
        "from sklearn import preprocessing\n",
        "import random"
      ]
    },
    {
      "cell_type": "code",
      "execution_count": 2,
      "metadata": {
        "id": "ApPeslHd5RSr"
      },
      "outputs": [],
      "source": [
        "#dir for dataset\n",
        "train_dir = \"./Dataset/train\"\n",
        "test_dir = \"./Dataset/test\""
      ]
    },
    {
      "cell_type": "code",
      "execution_count": 3,
      "metadata": {
        "id": "h2yJSzzp622j"
      },
      "outputs": [],
      "source": [
        "img_size=48"
      ]
    },
    {
      "cell_type": "code",
      "execution_count": 4,
      "metadata": {
        "id": "IIH_MuCk6zPY"
      },
      "outputs": [],
      "source": [
        "#datagen\n",
        "train_datagen = ImageDataGenerator(width_shift_range = 0.1,\n",
        "                                         height_shift_range = 0.1,\n",
        "                                         horizontal_flip = True,\n",
        "                                         rescale = 1./255,\n",
        "                                         validation_split = 0.2\n",
        "                                        )\n",
        "validation_datagen = ImageDataGenerator(rescale = 1./255,\n",
        "                                         validation_split = 0.2)"
      ]
    },
    {
      "cell_type": "code",
      "execution_count": 5,
      "metadata": {
        "colab": {
          "base_uri": "https://localhost:8080/"
        },
        "id": "uxktXRlR6qFF",
        "outputId": "b0f34ad5-10a3-43c4-dd17-fbd0e91edcbe"
      },
      "outputs": [
        {
          "name": "stdout",
          "output_type": "stream",
          "text": [
            "Found 22968 images belonging to 7 classes.\n",
            "Found 1432 images belonging to 7 classes.\n"
          ]
        }
      ],
      "source": [
        "train_generator = train_datagen.flow_from_directory(directory = train_dir,\n",
        "                                                    target_size = (img_size,img_size),\n",
        "                                                    batch_size = 64,\n",
        "                                                    color_mode = \"grayscale\",\n",
        "                                                    class_mode = \"categorical\",\n",
        "                                                    subset = \"training\"\n",
        "                                                   )\n",
        "validation_generator = validation_datagen.flow_from_directory( directory = test_dir,\n",
        "                                                              target_size = (img_size,img_size),\n",
        "                                                              batch_size = 64,\n",
        "                                                              color_mode = \"grayscale\",\n",
        "                                                              class_mode = \"categorical\",\n",
        "                                                              subset = \"validation\"\n",
        "                                                             )"
      ]
    },
    {
      "cell_type": "code",
      "execution_count": 6,
      "metadata": {
        "id": "kvaso8si7YKE"
      },
      "outputs": [],
      "source": [
        "import tensorflow as tf\n",
        "import keras\n",
        "from keras.layers import Conv2D, MaxPool2D, Flatten,Dense,Dropout,BatchNormalization\n",
        "\n",
        "model= tf.keras.models.Sequential()\n",
        "model.add(Conv2D(32, kernel_size=(3, 3), padding='same', activation='relu', input_shape=(48, 48,1)))\n",
        "model.add(Conv2D(64,(3,3), padding='same', activation='relu' ))\n",
        "model.add(BatchNormalization())\n",
        "model.add(MaxPool2D(pool_size=(2, 2)))\n",
        "model.add(Dropout(0.25))\n",
        "\n",
        "model.add(Conv2D(128,(5,5), padding='same', activation='relu'))\n",
        "model.add(BatchNormalization())\n",
        "model.add(MaxPool2D(pool_size=(2, 2)))\n",
        "model.add(Dropout(0.25))\n",
        "    \n",
        "model.add(Conv2D(512,(3,3), padding='same', activation='relu'))\n",
        "model.add(BatchNormalization())\n",
        "model.add(MaxPool2D(pool_size=(2, 2)))\n",
        "model.add(Dropout(0.25))\n",
        "model.add(Conv2D(512,(3,3), padding='same', activation='relu'))\n",
        "model.add(BatchNormalization())\n",
        "model.add(MaxPool2D(pool_size=(2, 2)))\n",
        "model.add(Dropout(0.25))\n",
        "\n",
        "model.add(Flatten()) \n",
        "model.add(Dense(256,activation = 'relu'))\n",
        "model.add(BatchNormalization())\n",
        "model.add(Dropout(0.25))\n",
        "    \n",
        "model.add(Dense(512,activation = 'relu'))\n",
        "model.add(BatchNormalization())\n",
        "model.add(Dropout(0.25))\n",
        "\n",
        "model.add(Dense(7, activation='softmax'))"
      ]
    },
    {
      "cell_type": "code",
      "execution_count": 7,
      "metadata": {
        "id": "LpZIlxj27kEI"
      },
      "outputs": [
        {
          "name": "stderr",
          "output_type": "stream",
          "text": [
            "C:\\Users\\Alexey\\AppData\\Local\\Programs\\Python\\Python39\\lib\\site-packages\\keras\\optimizer_v2\\optimizer_v2.py:355: UserWarning: The `lr` argument is deprecated, use `learning_rate` instead.\n",
            "  warnings.warn(\n"
          ]
        }
      ],
      "source": [
        "model.compile(\n",
        "    optimizer = Adam(lr=0.001), \n",
        "    loss='categorical_crossentropy', \n",
        "    metrics=['accuracy']\n",
        "  )"
      ]
    },
    {
      "cell_type": "code",
      "execution_count": 8,
      "metadata": {
        "colab": {
          "base_uri": "https://localhost:8080/"
        },
        "id": "wpXSWoGA7nCU",
        "outputId": "92eec585-6b0b-4a9c-ca5e-3e74fd905d05"
      },
      "outputs": [
        {
          "name": "stdout",
          "output_type": "stream",
          "text": [
            "Epoch 1/45\n",
            "359/359 [==============================] - 65s 174ms/step - loss: 2.0812 - accuracy: 0.2241 - val_loss: 2.4090 - val_accuracy: 0.2479\n",
            "Epoch 2/45\n",
            "359/359 [==============================] - 13s 36ms/step - loss: 1.7690 - accuracy: 0.3089 - val_loss: 2.5289 - val_accuracy: 0.2584\n",
            "Epoch 3/45\n",
            "359/359 [==============================] - 13s 35ms/step - loss: 1.5785 - accuracy: 0.3840 - val_loss: 1.6970 - val_accuracy: 0.3862 l\n",
            "Epoch 4/45\n",
            "359/359 [==============================] - 13s 36ms/step - loss: 1.4149 - accuracy: 0.4562 - val_loss: 1.3071 - val_accuracy: 0.4916\n",
            "Epoch 5/45\n",
            "359/359 [==============================] - 13s 36ms/step - loss: 1.3140 - accuracy: 0.4965 - val_loss: 1.2765 - val_accuracy: 0.5189\n",
            "Epoch 6/45\n",
            "359/359 [==============================] - 14s 39ms/step - loss: 1.2487 - accuracy: 0.5212 - val_loss: 1.1701 - val_accuracy: 0.5391\n",
            "Epoch 7/45\n",
            "359/359 [==============================] - 13s 37ms/step - loss: 1.1989 - accuracy: 0.5434 - val_loss: 1.2786 - val_accuracy: 0.5126\n",
            "Epoch 8/45\n",
            "359/359 [==============================] - 13s 36ms/step - loss: 1.1618 - accuracy: 0.5587 - val_loss: 1.1245 - val_accuracy: 0.5712\n",
            "Epoch 9/45\n",
            "359/359 [==============================] - 13s 37ms/step - loss: 1.1292 - accuracy: 0.5720 - val_loss: 1.0794 - val_accuracy: 0.5901\n",
            "Epoch 10/45\n",
            "359/359 [==============================] - 13s 37ms/step - loss: 1.1101 - accuracy: 0.5819 - val_loss: 1.0768 - val_accuracy: 0.5964\n",
            "Epoch 11/45\n",
            "359/359 [==============================] - 13s 37ms/step - loss: 1.0890 - accuracy: 0.5863 - val_loss: 1.1093 - val_accuracy: 0.5922\n",
            "Epoch 12/45\n",
            "359/359 [==============================] - 13s 36ms/step - loss: 1.0742 - accuracy: 0.5933 - val_loss: 1.0732 - val_accuracy: 0.5978\n",
            "Epoch 13/45\n",
            "359/359 [==============================] - 13s 36ms/step - loss: 1.0558 - accuracy: 0.5972 - val_loss: 1.0934 - val_accuracy: 0.5859\n",
            "Epoch 14/45\n",
            "359/359 [==============================] - 13s 36ms/step - loss: 1.0380 - accuracy: 0.6083 - val_loss: 1.0039 - val_accuracy: 0.6250\n",
            "Epoch 15/45\n",
            "359/359 [==============================] - 13s 36ms/step - loss: 1.0259 - accuracy: 0.6130 - val_loss: 1.0230 - val_accuracy: 0.6013\n",
            "Epoch 16/45\n",
            "359/359 [==============================] - 13s 36ms/step - loss: 1.0119 - accuracy: 0.6159 - val_loss: 1.0030 - val_accuracy: 0.6376\n",
            "Epoch 17/45\n",
            "359/359 [==============================] - 13s 36ms/step - loss: 1.0066 - accuracy: 0.6189 - val_loss: 1.0201 - val_accuracy: 0.6264\n",
            "Epoch 18/45\n",
            "359/359 [==============================] - 13s 36ms/step - loss: 0.9922 - accuracy: 0.6245 - val_loss: 1.0827 - val_accuracy: 0.6047\n",
            "Epoch 19/45\n",
            "359/359 [==============================] - 13s 36ms/step - loss: 0.9700 - accuracy: 0.6333 - val_loss: 0.9991 - val_accuracy: 0.6362\n",
            "Epoch 20/45\n",
            "359/359 [==============================] - 13s 36ms/step - loss: 0.9593 - accuracy: 0.6372 - val_loss: 0.9715 - val_accuracy: 0.6341\n",
            "Epoch 21/45\n",
            "359/359 [==============================] - 13s 35ms/step - loss: 0.9492 - accuracy: 0.6428 - val_loss: 0.9754 - val_accuracy: 0.6411\n",
            "Epoch 22/45\n",
            "359/359 [==============================] - 13s 35ms/step - loss: 0.9403 - accuracy: 0.6459 - val_loss: 0.9849 - val_accuracy: 0.6341\n",
            "Epoch 23/45\n",
            "359/359 [==============================] - 13s 36ms/step - loss: 0.9227 - accuracy: 0.6525 - val_loss: 0.9887 - val_accuracy: 0.6327TA: 0s - loss: 0.9235 - accu - ETA: 0s - loss: 0.9235 - accuracy\n",
            "Epoch 24/45\n",
            "359/359 [==============================] - 13s 36ms/step - loss: 0.9213 - accuracy: 0.6531 - val_loss: 0.9974 - val_accuracy: 0.6334\n",
            "Epoch 25/45\n",
            "359/359 [==============================] - 14s 38ms/step - loss: 0.9244 - accuracy: 0.6551 - val_loss: 1.1771 - val_accuracy: 0.5880\n",
            "Epoch 26/45\n",
            "359/359 [==============================] - 13s 37ms/step - loss: 0.9016 - accuracy: 0.6611 - val_loss: 0.9745 - val_accuracy: 0.6522\n",
            "Epoch 27/45\n",
            "359/359 [==============================] - 13s 37ms/step - loss: 0.8890 - accuracy: 0.6654 - val_loss: 0.9843 - val_accuracy: 0.6494\n",
            "Epoch 28/45\n",
            "359/359 [==============================] - 13s 35ms/step - loss: 0.8841 - accuracy: 0.6707 - val_loss: 0.9745 - val_accuracy: 0.6466\n",
            "Epoch 29/45\n",
            "359/359 [==============================] - 13s 35ms/step - loss: 0.8783 - accuracy: 0.6729 - val_loss: 0.9864 - val_accuracy: 0.6459\n",
            "Epoch 30/45\n",
            "359/359 [==============================] - 13s 35ms/step - loss: 0.8662 - accuracy: 0.6743 - val_loss: 1.0137 - val_accuracy: 0.6383\n",
            "Epoch 31/45\n",
            "359/359 [==============================] - 12s 35ms/step - loss: 0.8505 - accuracy: 0.6808 - val_loss: 1.0200 - val_accuracy: 0.6194\n",
            "Epoch 32/45\n",
            "359/359 [==============================] - 13s 35ms/step - loss: 0.8440 - accuracy: 0.6860 - val_loss: 1.0123 - val_accuracy: 0.6383\n",
            "Epoch 33/45\n",
            "359/359 [==============================] - 12s 34ms/step - loss: 0.8481 - accuracy: 0.6841 - val_loss: 0.9653 - val_accuracy: 0.6397\n",
            "Epoch 34/45\n",
            "359/359 [==============================] - 13s 35ms/step - loss: 0.8319 - accuracy: 0.6864 - val_loss: 0.9538 - val_accuracy: 0.6655\n",
            "Epoch 35/45\n",
            "359/359 [==============================] - 13s 35ms/step - loss: 0.8194 - accuracy: 0.6972 - val_loss: 0.9914 - val_accuracy: 0.6446 loss: 0.8 - ETA: 0s - los\n",
            "Epoch 36/45\n",
            "359/359 [==============================] - 14s 38ms/step - loss: 0.8144 - accuracy: 0.6943 - val_loss: 0.9557 - val_accuracy: 0.6585\n",
            "Epoch 37/45\n",
            "359/359 [==============================] - 13s 37ms/step - loss: 0.8062 - accuracy: 0.6992 - val_loss: 1.0229 - val_accuracy: 0.6453\n",
            "Epoch 38/45\n",
            "359/359 [==============================] - 13s 36ms/step - loss: 0.8003 - accuracy: 0.7007 - val_loss: 0.9739 - val_accuracy: 0.6473\n",
            "Epoch 39/45\n",
            "359/359 [==============================] - 13s 36ms/step - loss: 0.7887 - accuracy: 0.7099 - val_loss: 0.9316 - val_accuracy: 0.6620\n",
            "Epoch 40/45\n",
            "359/359 [==============================] - 13s 36ms/step - loss: 0.7833 - accuracy: 0.7054 - val_loss: 0.9732 - val_accuracy: 0.6508\n",
            "Epoch 41/45\n",
            "359/359 [==============================] - 13s 36ms/step - loss: 0.7733 - accuracy: 0.7091 - val_loss: 0.9992 - val_accuracy: 0.6578\n",
            "Epoch 42/45\n",
            "359/359 [==============================] - 13s 36ms/step - loss: 0.7666 - accuracy: 0.7122 - val_loss: 0.9911 - val_accuracy: 0.6425\n",
            "Epoch 43/45\n",
            "359/359 [==============================] - 13s 36ms/step - loss: 0.7563 - accuracy: 0.7190 - val_loss: 0.9612 - val_accuracy: 0.6697\n",
            "Epoch 44/45\n",
            "359/359 [==============================] - 13s 36ms/step - loss: 0.7537 - accuracy: 0.7191 - val_loss: 0.9489 - val_accuracy: 0.6711\n",
            "Epoch 45/45\n",
            "359/359 [==============================] - 13s 36ms/step - loss: 0.7406 - accuracy: 0.7225 - val_loss: 1.0409 - val_accuracy: 0.6439\n"
          ]
        }
      ],
      "source": [
        "epochs = 45\n",
        "batch_size = 64\n",
        "history = model.fit(x = train_generator,epochs = epochs,validation_data = validation_generator)"
      ]
    },
    {
      "cell_type": "code",
      "execution_count": 9,
      "metadata": {
        "colab": {
          "base_uri": "https://localhost:8080/",
          "height": 257
        },
        "id": "UakH5tOC_KjZ",
        "outputId": "b35d117f-bede-4f57-9257-c779c6253fad"
      },
      "outputs": [
        {
          "data": {
            "image/png": "[encoded data removed]",
            "text/plain": [
              "<Figure size 864x288 with 2 Axes>"
            ]
          },
          "metadata": {
            "needs_background": "light"
          },
          "output_type": "display_data"
        }
      ],
      "source": [
        "fig , ax = plt.subplots(1,2)\n",
        "train_acc = history.history['accuracy']\n",
        "train_loss = history.history['loss']\n",
        "fig.set_size_inches(12,4)\n",
        "\n",
        "ax[0].plot(history.history['accuracy'])\n",
        "ax[0].plot(history.history['val_accuracy'])\n",
        "ax[0].set_title('Training Accuracy vs Validation Accuracy')\n",
        "ax[0].set_ylabel('Accuracy')\n",
        "ax[0].set_xlabel('Epoch')\n",
        "ax[0].legend(['Train', 'Validation'], loc='upper left')\n",
        "\n",
        "ax[1].plot(history.history['loss'])\n",
        "ax[1].plot(history.history['val_loss'])\n",
        "ax[1].set_title('Training Loss vs Validation Loss')\n",
        "ax[1].set_ylabel('Loss')\n",
        "ax[1].set_xlabel('Epoch')\n",
        "ax[1].legend(['Train', 'Validation'], loc='upper left')\n",
        "\n",
        "plt.show()\n"
      ]
    },
    {
      "cell_type": "code",
      "execution_count": 10,
      "metadata": {
        "id": "SFmNbsLn_RTI"
      },
      "outputs": [],
      "source": [
        "model.save_weights('model_weights_FER.h5')"
      ]
    },
    {
      "cell_type": "code",
      "execution_count": 85,
      "metadata": {
        "id": "OgxLz01-B1ZZ"
      },
      "outputs": [],
      "source": [
        "from keras.preprocessing import image"
      ]
    },
    {
      "cell_type": "code",
      "execution_count": 88,
      "metadata": {
        "colab": {
          "base_uri": "https://localhost:8080/",
          "height": 284
        },
        "id": "sphClI-kBrnV",
        "outputId": "fffe9765-7f03-40ab-816a-dd7589e27f73"
      },
      "outputs": [
        {
          "ename": "FileNotFoundError",
          "evalue": "[Errno 2] No such file or directory: 'C:/Users/Alexey/Documents/GitHub/Emotion-detection-M-IVT-21-/Dataset/test/angryim30.png'",
          "output_type": "error",
          "traceback": [
            "\u001b[1;31m---------------------------------------------------------------------------\u001b[0m",
            "\u001b[1;31mFileNotFoundError\u001b[0m                         Traceback (most recent call last)",
            "\u001b[1;32m~\\AppData\\Local\\Temp/ipykernel_14672/2657740055.py\u001b[0m in \u001b[0;36m<module>\u001b[1;34m\u001b[0m\n\u001b[1;32m----> 1\u001b[1;33m \u001b[0mimg\u001b[0m \u001b[1;33m=\u001b[0m \u001b[0mimage\u001b[0m\u001b[1;33m.\u001b[0m\u001b[0mload_img\u001b[0m\u001b[1;33m(\u001b[0m\u001b[1;34m\"C:/Users/Alexey/Documents/GitHub/Emotion-detection-M-IVT-21-/Dataset/test/angryim30.png\"\u001b[0m\u001b[1;33m,\u001b[0m\u001b[0mtarget_size\u001b[0m \u001b[1;33m=\u001b[0m \u001b[1;33m(\u001b[0m\u001b[1;36m48\u001b[0m\u001b[1;33m,\u001b[0m\u001b[1;36m48\u001b[0m\u001b[1;33m)\u001b[0m\u001b[1;33m,\u001b[0m\u001b[0mcolor_mode\u001b[0m \u001b[1;33m=\u001b[0m \u001b[1;34m\"grayscale\"\u001b[0m\u001b[1;33m)\u001b[0m\u001b[1;33m\u001b[0m\u001b[1;33m\u001b[0m\u001b[0m\n\u001b[0m\u001b[0;32m      2\u001b[0m \u001b[0mimg\u001b[0m \u001b[1;33m=\u001b[0m \u001b[0mnp\u001b[0m\u001b[1;33m.\u001b[0m\u001b[0marray\u001b[0m\u001b[1;33m(\u001b[0m\u001b[0mimg\u001b[0m\u001b[1;33m)\u001b[0m\u001b[1;33m\u001b[0m\u001b[1;33m\u001b[0m\u001b[0m\n\u001b[0;32m      3\u001b[0m \u001b[0mplt\u001b[0m\u001b[1;33m.\u001b[0m\u001b[0mimshow\u001b[0m\u001b[1;33m(\u001b[0m\u001b[0mimg\u001b[0m\u001b[1;33m)\u001b[0m\u001b[1;33m\u001b[0m\u001b[1;33m\u001b[0m\u001b[0m\n\u001b[0;32m      4\u001b[0m \u001b[0mprint\u001b[0m\u001b[1;33m(\u001b[0m\u001b[0mimg\u001b[0m\u001b[1;33m.\u001b[0m\u001b[0mshape\u001b[0m\u001b[1;33m)\u001b[0m \u001b[1;31m#prints (48,48) that is the shape of our image\u001b[0m\u001b[1;33m\u001b[0m\u001b[1;33m\u001b[0m\u001b[0m\n",
            "\u001b[1;32m~\\AppData\\Local\\Programs\\Python\\Python39\\lib\\site-packages\\keras\\preprocessing\\image.py\u001b[0m in \u001b[0;36mload_img\u001b[1;34m(path, grayscale, color_mode, target_size, interpolation)\u001b[0m\n\u001b[0;32m    311\u001b[0m       \u001b[0mValueError\u001b[0m\u001b[1;33m:\u001b[0m \u001b[1;32mif\u001b[0m \u001b[0minterpolation\u001b[0m \u001b[0mmethod\u001b[0m \u001b[1;32mis\u001b[0m \u001b[1;32mnot\u001b[0m \u001b[0msupported\u001b[0m\u001b[1;33m.\u001b[0m\u001b[1;33m\u001b[0m\u001b[1;33m\u001b[0m\u001b[0m\n\u001b[0;32m    312\u001b[0m   \"\"\"\n\u001b[1;32m--> 313\u001b[1;33m   return image.load_img(path, grayscale=grayscale, color_mode=color_mode,\n\u001b[0m\u001b[0;32m    314\u001b[0m                         target_size=target_size, interpolation=interpolation)\n\u001b[0;32m    315\u001b[0m \u001b[1;33m\u001b[0m\u001b[0m\n",
            "\u001b[1;32m~\\AppData\\Local\\Programs\\Python\\Python39\\lib\\site-packages\\keras_preprocessing\\image\\utils.py\u001b[0m in \u001b[0;36mload_img\u001b[1;34m(path, grayscale, color_mode, target_size, interpolation)\u001b[0m\n\u001b[0;32m    111\u001b[0m         raise ImportError('Could not import PIL.Image. '\n\u001b[0;32m    112\u001b[0m                           'The use of `load_img` requires PIL.')\n\u001b[1;32m--> 113\u001b[1;33m     \u001b[1;32mwith\u001b[0m \u001b[0mopen\u001b[0m\u001b[1;33m(\u001b[0m\u001b[0mpath\u001b[0m\u001b[1;33m,\u001b[0m \u001b[1;34m'rb'\u001b[0m\u001b[1;33m)\u001b[0m \u001b[1;32mas\u001b[0m \u001b[0mf\u001b[0m\u001b[1;33m:\u001b[0m\u001b[1;33m\u001b[0m\u001b[1;33m\u001b[0m\u001b[0m\n\u001b[0m\u001b[0;32m    114\u001b[0m         \u001b[0mimg\u001b[0m \u001b[1;33m=\u001b[0m \u001b[0mpil_image\u001b[0m\u001b[1;33m.\u001b[0m\u001b[0mopen\u001b[0m\u001b[1;33m(\u001b[0m\u001b[0mio\u001b[0m\u001b[1;33m.\u001b[0m\u001b[0mBytesIO\u001b[0m\u001b[1;33m(\u001b[0m\u001b[0mf\u001b[0m\u001b[1;33m.\u001b[0m\u001b[0mread\u001b[0m\u001b[1;33m(\u001b[0m\u001b[1;33m)\u001b[0m\u001b[1;33m)\u001b[0m\u001b[1;33m)\u001b[0m\u001b[1;33m\u001b[0m\u001b[1;33m\u001b[0m\u001b[0m\n\u001b[0;32m    115\u001b[0m         \u001b[1;32mif\u001b[0m \u001b[0mcolor_mode\u001b[0m \u001b[1;33m==\u001b[0m \u001b[1;34m'grayscale'\u001b[0m\u001b[1;33m:\u001b[0m\u001b[1;33m\u001b[0m\u001b[1;33m\u001b[0m\u001b[0m\n",
            "\u001b[1;31mFileNotFoundError\u001b[0m: [Errno 2] No such file or directory: 'C:/Users/Alexey/Documents/GitHub/Emotion-detection-M-IVT-21-/Dataset/test/angryim30.png'"
          ]
        }
      ],
      "source": [
        "img = image.load_img(\"C:/Users/Alexey/Documents/GitHub/Emotion-detection-M-IVT-21-/Dataset/test/angryim30.png\",target_size = (48,48),color_mode = \"grayscale\")\n",
        "img = np.array(img)\n",
        "plt.imshow(img)\n",
        "print(img.shape) #prints (48,48) that is the shape of our image"
      ]
    },
    {
      "cell_type": "code",
      "execution_count": 27,
      "metadata": {
        "colab": {
          "base_uri": "https://localhost:8080/"
        },
        "id": "4HCkMGzfCV0o",
        "outputId": "271d71e4-14f7-4165-8ff8-d9c2a61b08c3"
      },
      "outputs": [
        {
          "name": "stdout",
          "output_type": "stream",
          "text": [
            "359/359 [==============================] - 12s 34ms/step - loss: 0.7533 - accuracy: 0.7191\n",
            "23/23 [==============================] - 0s 17ms/step - loss: 1.0409 - accuracy: 0.6439\n",
            "final train accuracy = 71.91 , validation accuracy = 64.39\n"
          ]
        }
      ],
      "source": [
        "train_loss, train_acc = model.evaluate(train_generator)\n",
        "test_loss, test_acc   = model.evaluate(validation_generator)\n",
        "print(\"final train accuracy = {:.2f} , validation accuracy = {:.2f}\".format(train_acc*100, test_acc*100))"
      ]
    },
    {
      "cell_type": "code",
      "execution_count": 77,
      "metadata": {},
      "outputs": [],
      "source": [
        "label_dict = {0:'Angry',1:'Disgust',2:'Fear',3:'Happy',4:'Neutral',5:'Sad',6:'Surprise'}"
      ]
    },
    {
      "cell_type": "code",
      "execution_count": 78,
      "metadata": {},
      "outputs": [
        {
          "name": "stdout",
          "output_type": "stream",
          "text": [
            "[7.244744e-11, 0.0, 1.0, 0.0, 0.0, 0.0, 0.0]\n"
          ]
        }
      ],
      "source": [
        "img = np.expand_dims(img,axis = 0) #makes image shape (1,48,48)\n",
        "img = img.reshape(1,48,48,1)\n",
        "result = model.predict(img)\n",
        "result = list(result[0])\n",
        "print(result)"
      ]
    },
    {
      "cell_type": "code",
      "execution_count": 79,
      "metadata": {},
      "outputs": [
        {
          "name": "stdout",
          "output_type": "stream",
          "text": [
            "Fear\n"
          ]
        }
      ],
      "source": [
        "img_index = result.index(max(result))\n",
        "print(label_dict[img_index])\n",
        "plt.show()"
      ]
    },
    {
      "cell_type": "code",
      "execution_count": 91,
      "metadata": {},
      "outputs": [
        {
          "ename": "error",
          "evalue": "OpenCV(4.5.4) :-1: error: (-5:Bad argument) in function 'cvtColor'\n> Overload resolution failed:\n>  - src is not a numpy array, neither a scalar\n>  - Expected Ptr<cv::UMat> for argument 'src'\n",
          "output_type": "error",
          "traceback": [
            "\u001b[1;31m---------------------------------------------------------------------------\u001b[0m",
            "\u001b[1;31merror\u001b[0m                                     Traceback (most recent call last)",
            "\u001b[1;32m~\\AppData\\Local\\Temp/ipykernel_14672/4287873759.py\u001b[0m in \u001b[0;36m<module>\u001b[1;34m\u001b[0m\n\u001b[0;32m      3\u001b[0m \u001b[1;33m\u001b[0m\u001b[0m\n\u001b[0;32m      4\u001b[0m \u001b[1;31m# преобразуем изображение к оттенкам серого\u001b[0m\u001b[1;33m\u001b[0m\u001b[1;33m\u001b[0m\u001b[0m\n\u001b[1;32m----> 5\u001b[1;33m \u001b[0mimage_gray\u001b[0m \u001b[1;33m=\u001b[0m \u001b[0mcv2\u001b[0m\u001b[1;33m.\u001b[0m\u001b[0mcvtColor\u001b[0m\u001b[1;33m(\u001b[0m\u001b[0mimage\u001b[0m\u001b[1;33m,\u001b[0m \u001b[0mcv2\u001b[0m\u001b[1;33m.\u001b[0m\u001b[0mCOLOR_RGB2GRAY\u001b[0m\u001b[1;33m)\u001b[0m\u001b[1;33m\u001b[0m\u001b[1;33m\u001b[0m\u001b[0m\n\u001b[0m\u001b[0;32m      6\u001b[0m \u001b[1;33m\u001b[0m\u001b[0m\n\u001b[0;32m      7\u001b[0m \u001b[1;31m# инициализировать распознаватель лиц (каскад Хаара по умолчанию)\u001b[0m\u001b[1;33m\u001b[0m\u001b[1;33m\u001b[0m\u001b[0m\n",
            "\u001b[1;31merror\u001b[0m: OpenCV(4.5.4) :-1: error: (-5:Bad argument) in function 'cvtColor'\n> Overload resolution failed:\n>  - src is not a numpy array, neither a scalar\n>  - Expected Ptr<cv::UMat> for argument 'src'\n"
          ]
        }
      ],
      "source": [
        "# Загрузка изображения\n",
        "image_cv2 = cv2.imread(\"./test.jpeg\")\n",
        "\n",
        "# преобразуем изображение к оттенкам серого\n",
        "image_gray = cv2.cvtColor(image, cv2.COLOR_RGB2GRAY)\n",
        "\n",
        "# инициализировать распознаватель лиц (каскад Хаара по умолчанию)\n",
        "face_cascade = cv2.CascadeClassifier(\"haarcascade_fontalface_default.xml\")\n",
        "\n",
        "# обнаружение всех лиц на изображении\n",
        "faces = face_cascade.detectMultiScale(image_gray)\n",
        "# печатать количество найденных лиц\n",
        "\n",
        "numfaces = 0\n",
        "# для всех обнаруженных лиц рисуем синий квадрат\n",
        "for x, y, width, height in faces:\n",
        "    if (width-x)>20:\n",
        "        cv2.rectangle(image_cv2, (x, y), (x + width, y + height), color=(255, 0, 0), thickness=2)\n",
        "        numfaces+=1\n",
        "        img = Image.open(\"./test.jpeg\")\n",
        "        img_crop = img.crop((x, y, x + width, y + height))\n",
        "        img_crop.save(\"testing.jpg\", quality=95)\n",
        "\n",
        "print(f\"{numfaces} лиц обнаружено на изображении.\")\n",
        "# сохраняем изображение с обнаруженными лицами\n",
        "cv2.imwrite(\"kids_detected.jpg\", image)\n",
        "plt.imshow(image)\n",
        "plt.show()"
      ]
    },
    {
      "cell_type": "code",
      "execution_count": 90,
      "metadata": {},
      "outputs": [],
      "source": [
        "from PIL import Image as Image_PIL"
      ]
    }
  ],
  "metadata": {
    "colab": {
      "collapsed_sections": [],
      "name": "Emotion classification.ipynb",
      "provenance": []
    },
    "kernelspec": {
      "display_name": "Python 3",
      "name": "python3"
    },
    "language_info": {
      "codemirror_mode": {
        "name": "ipython",
        "version": 3
      },
      "file_extension": ".py",
      "mimetype": "text/x-python",
      "name": "python",
      "nbconvert_exporter": "python",
      "pygments_lexer": "ipython3",
      "version": "3.9.8"
    }
  },
  "nbformat": 4,
  "nbformat_minor": 0
}
